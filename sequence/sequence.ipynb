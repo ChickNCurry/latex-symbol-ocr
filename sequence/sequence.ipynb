{
 "cells": [
  {
   "cell_type": "code",
   "execution_count": 24,
   "metadata": {},
   "outputs": [],
   "source": [
    "import os\n",
    "\n",
    "import cv2\n",
    "import matplotlib.pyplot as plt\n",
    "import torch\n",
    "from torch.utils.data import Dataset"
   ]
  },
  {
   "cell_type": "code",
   "execution_count": 36,
   "metadata": {},
   "outputs": [
    {
     "name": "stdout",
     "output_type": "stream",
     "text": [
      "1 60ee748793\n",
      "./data/formula_images/60ee748793.png\n"
     ]
    },
    {
     "data": {
      "image/png": "[encoded data removed]",
      "text/plain": [
       "<Figure size 640x480 with 1 Axes>"
      ]
     },
     "metadata": {},
     "output_type": "display_data"
    },
    {
     "name": "stdout",
     "output_type": "stream",
     "text": [
      "\\int_{-\\epsilon}^\\infty dl\\: {\\rm e}^{-l\\zeta}\t\\int_{-\\epsilon}^\\infty dl' {\\rm e}^{-l'\\zeta}\tll'{l'-l \\over l+l'} \\{3\\,\\delta''(l) - {3 \\over 4}t\\,\\delta(l) \\} =0.\t\t\\label{eq21}\n",
      "\n"
     ]
    }
   ],
   "source": [
    "lines_path = \"./data/im2latex_train.lst\"\n",
    "img_dir = \"./data/formula_images/\"\n",
    "file = open(lines_path, \"r\")\n",
    "lines = file.readlines()\n",
    "formula_index, img_name, _ = lines[0].split(\" \")\n",
    "print(formula_index, img_name)\n",
    "path = os.path.join(img_dir, img_name + \".png\")\n",
    "print(path)\n",
    "img = cv2.imread(path)\n",
    "plot = plt.imshow(img)\n",
    "plt.show()\n",
    "\n",
    "formulas_path = \"./data/im2latex_formulas.lst\"\n",
    "file = open(formulas_path, \"r\", encoding = \"ISO-8859-1\")\n",
    "lines = file.readlines()\n",
    "print(lines[0])"
   ]
  },
  {
   "cell_type": "code",
   "execution_count": 37,
   "metadata": {},
   "outputs": [],
   "source": [
    "class Im2LatexDataset(Dataset):\n",
    "    def __init__(self, lines_path: str, formulas_path: str, img_dir: str):\n",
    "        with open(lines_path, \"r\") as lines_file:\n",
    "            self.lines = lines_file.readlines()\n",
    "\n",
    "        with open(formulas_path, \"r\", encoding=\"ISO-8859-1\") as formulas_file:\n",
    "            self.formulas = formulas_file.readlines()\n",
    "        \n",
    "        self.img_dir = img_dir\n",
    "\n",
    "    def __len__(self):\n",
    "        return len(self.lines)\n",
    "\n",
    "    def __getitem__(self, index):\n",
    "        formula_index, img_name, _ = self.lines[0].split(\" \")\n",
    "\n",
    "        img_path = os.path.join(self.img_dir, img_name + \".png\")\n",
    "        img = torch.FloatTensor(cv2.imread(img_path))\n",
    "\n",
    "        label = self.formulas[int(formula_index)]\n",
    "        \n",
    "        return img, label\n"
   ]
  },
  {
   "cell_type": "code",
   "execution_count": 38,
   "metadata": {},
   "outputs": [],
   "source": [
    "lines_path = \"./data/im2latex_train.lst\"\n",
    "formulas_path = \"./data/im2latex_formulas.lst\"\n",
    "img_dir = \"./data/formula_images/\"\n",
    "\n",
    "dataset = Im2LatexDataset(lines_path=lines_path, formulas_path=formulas_path, img_dir=img_dir)"
   ]
  }
 ],
 "metadata": {
  "kernelspec": {
   "display_name": "torch-directml",
   "language": "python",
   "name": "python3"
  },
  "language_info": {
   "codemirror_mode": {
    "name": "ipython",
    "version": 3
   },
   "file_extension": ".py",
   "mimetype": "text/x-python",
   "name": "python",
   "nbconvert_exporter": "python",
   "pygments_lexer": "ipython3",
   "version": "3.8.18"
  }
 },
 "nbformat": 4,
 "nbformat_minor": 2
}
