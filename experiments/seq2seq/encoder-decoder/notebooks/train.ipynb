{
 "cells": [
  {
   "cell_type": "code",
   "execution_count": 1,
   "metadata": {},
   "outputs": [
    {
     "name": "stdout",
     "output_type": "stream",
     "text": [
      "/home/chickencurry/markup-ocr/experiments/seq2seq/encoder-decoder/code\n"
     ]
    }
   ],
   "source": [
    "%cd ../code"
   ]
  },
  {
   "cell_type": "code",
   "execution_count": 2,
   "metadata": {},
   "outputs": [
    {
     "name": "stderr",
     "output_type": "stream",
     "text": [
      "/home/chickencurry/miniconda3/envs/directml/lib/python3.11/site-packages/tqdm/auto.py:21: TqdmWarning: IProgress not found. Please update jupyter and ipywidgets. See https://ipywidgets.readthedocs.io/en/stable/user_install.html\n",
      "  from .autonotebook import tqdm as notebook_tqdm\n"
     ]
    }
   ],
   "source": [
    "from data import LatexEquationDataset, create_tokenizer, load_tokenizer, load_img_names_to_skip, curry_collate_fn, clean, get_input_token_ids, get_target_token_ids\n",
    "from model import EncoderDecoder\n",
    "from eval import get_bleu, print_statistics\n",
    "\n",
    "import torch\n",
    "import torch.nn as nn\n",
    "from torch.nn.functional import one_hot\n",
    "from torch.utils.data import DataLoader, random_split\n",
    "from torchmetrics import CharErrorRate, WordErrorRate, BLEUScore\n",
    "from matplotlib import pyplot as plt\n",
    "from tqdm import tqdm"
   ]
  },
  {
   "cell_type": "code",
   "execution_count": 3,
   "metadata": {},
   "outputs": [],
   "source": [
    "device = \"cpu\""
   ]
  },
  {
   "cell_type": "code",
   "execution_count": 4,
   "metadata": {},
   "outputs": [],
   "source": [
    "import torch_directml\n",
    "device = torch_directml.device()"
   ]
  },
  {
   "cell_type": "code",
   "execution_count": 5,
   "metadata": {},
   "outputs": [],
   "source": [
    "img_test_dir = \"../data/formulae/test\"\n",
    "img_train_dir = \"../data/formulae/train\"\n",
    "img_val_dir = \"../data/formulae/val\"\n",
    "equations_path = \"../data/formulae/math.txt\"\n",
    "tokenizer_path = \"../data/test_tokenizer.json\"\n",
    "img_names_to_skip_dir = \"../data/img_names_to_skip\""
   ]
  },
  {
   "cell_type": "code",
   "execution_count": 6,
   "metadata": {},
   "outputs": [
    {
     "name": "stderr",
     "output_type": "stream",
     "text": [
      "/home/chickencurry/miniconda3/envs/directml/lib/python3.11/site-packages/transformers/tokenization_utils_base.py:1601: FutureWarning: `clean_up_tokenization_spaces` was not set. It will be set to `True` by default. This behavior will be depracted in transformers v4.45, and will be then set to `False` by default. For more details check this issue: https://github.com/huggingface/transformers/issues/31884\n",
      "  warnings.warn(\n"
     ]
    }
   ],
   "source": [
    "# create_tokenizer(equations_path, tokenizer_path)\n",
    "tokenizer = load_tokenizer(tokenizer_path)"
   ]
  },
  {
   "cell_type": "code",
   "execution_count": 7,
   "metadata": {},
   "outputs": [],
   "source": [
    "# create_img_names_to_skip(img_train_dir, img_names_to_skip_dir)\n",
    "img_names_to_skip = load_img_names_to_skip(img_names_to_skip_dir)"
   ]
  },
  {
   "cell_type": "code",
   "execution_count": 8,
   "metadata": {},
   "outputs": [],
   "source": [
    "dataset = LatexEquationDataset(equations_path, img_train_dir, img_names_to_skip, tokenizer)\n",
    "training_dataset, validation_dataset = random_split(dataset, [0.7, 0.3])\n",
    "\n",
    "# training_dataset = LatexEquationDataset(equations_path, img_train_dir, img_names_to_skip, tokenizer)\n",
    "# validation_dataset = LatexEquationDataset(equations_path, img_val_dir, img_names_to_skip, tokenizer)\n",
    "\n",
    "training_dataloader = DataLoader(training_dataset, batch_size=10, shuffle=False, collate_fn=curry_collate_fn(tokenizer.convert_tokens_to_ids(\"[PAD]\")))\n",
    "validation_dataloader = DataLoader(validation_dataset, batch_size=1, shuffle=False, collate_fn=curry_collate_fn(tokenizer.convert_tokens_to_ids(\"[PAD]\")))"
   ]
  },
  {
   "cell_type": "code",
   "execution_count": 9,
   "metadata": {},
   "outputs": [
    {
     "name": "stdout",
     "output_type": "stream",
     "text": [
      "\\Delta a = { \\frac { 1 5 } { 2 } } \\pi ^ { 2 } \\int \\mathrm { d } ^ { 4 } x \\, | x | ^ { 4 } \\, \\langle \\Theta ( x ) \\, \\Theta ( 0 ) \\rangle\n"
     ]
    },
    {
     "data": {
      "image/png": "[encoded data removed]",
      "text/plain": [
       "<Figure size 640x480 with 1 Axes>"
      ]
     },
     "metadata": {},
     "output_type": "display_data"
    }
   ],
   "source": [
    "item = next(iter(training_dataloader))\n",
    "tokens = tokenizer.convert_ids_to_tokens(item[1][0].tolist(), skip_special_tokens = True)\n",
    "print(clean(\"\".join(tokens)))\n",
    "\n",
    "plt.figure()\n",
    "plt.axis(\"off\")\n",
    "plt.imshow(item[0][0].squeeze(0), cmap=\"gray\")\n",
    "plt.show()"
   ]
  },
  {
   "cell_type": "code",
   "execution_count": 10,
   "metadata": {},
   "outputs": [],
   "source": [
    "model = EncoderDecoder(\n",
    "    vocab_size=tokenizer.vocab_size,\n",
    "    d_feature=512,\n",
    "    d_model=256,\n",
    "    n_blocks_enc=4,\n",
    "    n_blocks_dec=4,\n",
    "    n_heads=8,\n",
    "    d_hidden=1024,\n",
    "    dropout=0.1\n",
    ").to(device)\n",
    "\n",
    "criterion = nn.CrossEntropyLoss(ignore_index=tokenizer.convert_tokens_to_ids(\"[PAD]\"), label_smoothing=0.1)\n",
    "optimizer = torch.optim.Adam(params=model.parameters(), lr=0.001)"
   ]
  },
  {
   "cell_type": "code",
   "execution_count": null,
   "metadata": {},
   "outputs": [],
   "source": [
    "train_loss = []\n",
    "num_epochs = 1\n",
    "\n",
    "for epoch in range(num_epochs):\n",
    "    \n",
    "    model.train()\n",
    "    torch.inference_mode(False)\n",
    "\n",
    "    training_iterator = tqdm(training_dataloader, total=len(training_dataloader), desc=\"training epoch {}/{}\".format(epoch, num_epochs))\n",
    "\n",
    "    for img, token_ids in training_iterator:\n",
    "        # move to GPU\n",
    "        img = img.to(device)\n",
    "        input_token_ids = get_input_token_ids(token_ids, tokenizer).to(device)\n",
    "        target_token_ids = get_target_token_ids(token_ids, tokenizer).to(device)\n",
    "\n",
    "        # forward\n",
    "        logits = model(img, input_token_ids)\n",
    "        loss = criterion(logits, target_token_ids)\n",
    "\n",
    "        # collect stats\n",
    "        train_loss.append(loss.item())\n",
    "        training_iterator.set_postfix({\"loss\": f\"{loss.item():.4f}\"})\n",
    "\n",
    "        # backward\n",
    "        optimizer.zero_grad()\n",
    "        loss.backward()\n",
    "        optimizer.step()"
   ]
  },
  {
   "cell_type": "code",
   "execution_count": null,
   "metadata": {},
   "outputs": [],
   "source": [
    "output_texts = []\n",
    "target_texts = []\n",
    "\n",
    "model.eval()\n",
    "torch.inference_mode(True)\n",
    "\n",
    "validation_iterator = tqdm(validation_dataloader, total=len(validation_dataloader), desc=\"validation epoch {}/{}\".format(epoch, num_epochs))\n",
    "\n",
    "for index, (img, token_ids) in tqdm(validation_dataloader):\n",
    "    # move to GPU\n",
    "    img = img.to(device)\n",
    "    input_token_ids = get_input_token_ids(token_ids, tokenizer).to(device)\n",
    "    target_token_ids = get_target_token_ids(token_ids, tokenizer).to(device)\n",
    "\n",
    "    # forward\n",
    "    logits = model(img, input_token_ids)\n",
    "    \n",
    "    # collect stats\n",
    "    output_texts.append(tokenizer.convert_ids_to_tokens(input_token_ids[0].tolist(), skip_special_tokens = True))\n",
    "    target_texts.append(tokenizer.convert_ids_to_tokens(target_token_ids[0].tolist(), skip_special_tokens = True))\n",
    "\n",
    "bleu = BLEUScore()(output_texts, target_texts)\n",
    "wer = WordErrorRate()(output_texts, target_texts)\n",
    "cer = CharErrorRate()(output_texts, target_texts)\n",
    "\n",
    "print(f\"BLEU: {bleu}\")\n",
    "print(f\"WER: {wer}\")\n",
    "print(f\"CRE: {cer}\")"
   ]
  }
 ],
 "metadata": {
  "kernelspec": {
   "display_name": "torch-directml",
   "language": "python",
   "name": "python3"
  },
  "language_info": {
   "codemirror_mode": {
    "name": "ipython",
    "version": 3
   },
   "file_extension": ".py",
   "mimetype": "text/x-python",
   "name": "python",
   "nbconvert_exporter": "python",
   "pygments_lexer": "ipython3",
   "version": "3.11.9"
  }
 },
 "nbformat": 4,
 "nbformat_minor": 2
}
