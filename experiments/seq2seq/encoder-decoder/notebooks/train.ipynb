{
 "cells": [
  {
   "cell_type": "code",
   "execution_count": 1,
   "metadata": {},
   "outputs": [
    {
     "name": "stdout",
     "output_type": "stream",
     "text": [
      "/home/chickencurry/markup-ocr/experiments/seq2seq/encoder-decoder/code\n"
     ]
    }
   ],
   "source": [
    "%cd ../code"
   ]
  },
  {
   "cell_type": "code",
   "execution_count": 2,
   "metadata": {},
   "outputs": [
    {
     "name": "stderr",
     "output_type": "stream",
     "text": [
      "/home/chickencurry/miniconda3/envs/directml/lib/python3.11/site-packages/tqdm/auto.py:21: TqdmWarning: IProgress not found. Please update jupyter and ipywidgets. See https://ipywidgets.readthedocs.io/en/stable/user_install.html\n",
      "  from .autonotebook import tqdm as notebook_tqdm\n"
     ]
    }
   ],
   "source": [
    "from data import LatexEquationDataset, LatexEquationSampler, create_tokenizer, load_tokenizer, load_img_names_from_path, curry_collate_fn, clean, get_input_token_ids, get_target_token_ids, create_img_names_to_skip, create_img_names_max_height\n",
    "from model import EncoderDecoder\n",
    "from eval import get_bleu, print_statistics\n",
    "\n",
    "import torch\n",
    "import torch.nn as nn\n",
    "from torch.nn.functional import one_hot\n",
    "from torch.utils.data import DataLoader, random_split\n",
    "from torchmetrics import CharErrorRate, WordErrorRate, BLEUScore\n",
    "from matplotlib import pyplot as plt\n",
    "from tqdm import tqdm"
   ]
  },
  {
   "cell_type": "code",
   "execution_count": 3,
   "metadata": {},
   "outputs": [],
   "source": [
    "device = \"cpu\""
   ]
  },
  {
   "cell_type": "code",
   "execution_count": 4,
   "metadata": {},
   "outputs": [],
   "source": [
    "import torch_directml\n",
    "device = torch_directml.device()"
   ]
  },
  {
   "cell_type": "code",
   "execution_count": 5,
   "metadata": {},
   "outputs": [],
   "source": [
    "equations_path = \"../data/formulae/math.txt\"\n",
    "tokenizer_path = \"../data/my_tokenizer.json\"\n",
    "\n",
    "img_train_dir = \"../data/formulae/train\"\n",
    "img_val_dir = \"../data/formulae/val\"\n",
    "img_test_dir = \"../data/formulae/test\"\n",
    "\n",
    "img_train_names_to_skip_path = \"../data/img_train_names_to_skip.pkl\"\n",
    "img_val_names_to_skip_path = \"../data/img_val_names_to_skip.pkl\"\n",
    "img_test_names_to_skip_path = \"../data/img_names_to_skip.pkl\"\n",
    "\n",
    "train_indices_path = \"../data/train_indices.pkl\"\n",
    "\n",
    "img_train_max_height_64_path = \"../data/img_train_max_height_64.pkl\""
   ]
  },
  {
   "cell_type": "code",
   "execution_count": 6,
   "metadata": {},
   "outputs": [
    {
     "name": "stderr",
     "output_type": "stream",
     "text": [
      "/home/chickencurry/miniconda3/envs/directml/lib/python3.11/site-packages/transformers/tokenization_utils_base.py:1601: FutureWarning: `clean_up_tokenization_spaces` was not set. It will be set to `True` by default. This behavior will be depracted in transformers v4.45, and will be then set to `False` by default. For more details check this issue: https://github.com/huggingface/transformers/issues/31884\n",
      "  warnings.warn(\n"
     ]
    }
   ],
   "source": [
    "# create_tokenizer(equations_path, tokenizer_path)\n",
    "tokenizer = load_tokenizer(tokenizer_path)"
   ]
  },
  {
   "cell_type": "code",
   "execution_count": 7,
   "metadata": {},
   "outputs": [],
   "source": [
    "# create_img_names_to_skip(img_train_dir, img_train_names_to_skip_dir)\n",
    "img_train_names_to_skip = load_img_names_from_path(img_train_names_to_skip_path)\n",
    "\n",
    "# create_img_names_to_skip(img_val_dir, img_val_names_to_skip_dir)\n",
    "img_val_names_to_skip = load_img_names_from_path(img_val_names_to_skip_path)\n",
    "\n",
    "# create_img_names_max_height(img_train_dir, img_train_max_height_64_path)\n",
    "img_train_max_height_64 = load_img_names_from_path(img_train_max_height_64_path)"
   ]
  },
  {
   "cell_type": "code",
   "execution_count": 8,
   "metadata": {},
   "outputs": [
    {
     "name": "stdout",
     "output_type": "stream",
     "text": [
      "['0203977.png', '0012825.png', '0197669.png', '0079543.png', '0127315.png', '0069723.png', '0230119.png', '0216467.png', '0011581.png', '0029849.png']\n"
     ]
    }
   ],
   "source": [
    "print(img_train_max_height_64[0:10])"
   ]
  },
  {
   "cell_type": "code",
   "execution_count": 9,
   "metadata": {},
   "outputs": [],
   "source": [
    "train_dataset = LatexEquationDataset(equations_path, img_train_dir, tokenizer, img_train_max_height_64, img_train_names_to_skip)\n",
    "val_dataset = LatexEquationDataset(equations_path, img_val_dir, tokenizer, None, img_val_names_to_skip)\n",
    "\n",
    "train_dataloader = DataLoader(\n",
    "    train_dataset, \n",
    "    batch_size=10, \n",
    "    shuffle=False, \n",
    "    # sampler=LatexEquationSampler(train_dataset, train_indices_path), \n",
    "    collate_fn=curry_collate_fn(tokenizer.convert_tokens_to_ids(\"[PAD]\")),\n",
    ")\n",
    "\n",
    "val_dataloader = DataLoader(\n",
    "    val_dataset, \n",
    "    batch_size=1, \n",
    "    shuffle=False, \n",
    "    collate_fn=curry_collate_fn(tokenizer.convert_tokens_to_ids(\"[PAD]\"))\n",
    ")"
   ]
  },
  {
   "cell_type": "code",
   "execution_count": 11,
   "metadata": {},
   "outputs": [
    {
     "name": "stdout",
     "output_type": "stream",
     "text": [
      "\\theta _ { 1 } + \\theta _ { 2 } = \\theta _ { 3 } + \\theta _ { 4 } = 9 0 ^ { \\circ } .\n",
      "{ \\cal S } _ { \\sigma } = \\frac { 1 } { 4 \\pi \\alpha ^ { \\prime } } \\int _ { \\Sigma } d ^ { 2 } \\sigma \\sqrt { \\gamma } \\gamma ^ { \\alpha \\beta } \\partial _ { \\alpha } X ^ { M } \\partial _ { \\beta } X _ { M } + \\frac { 1 } { 4 \\pi } \\int _ { \\Sigma } d ^ { 2 } \\sigma \\sqrt { \\gamma } \\Phi ( X ) R ^ { ( 2 ) } ( \\sigma , \\tau )\n",
      "z ^ { 3 } - 2 z + 2\n",
      "\\Pi ^ { - 1 } = ( - 2 \\kappa ) ^ { - 1 } \\Pi \\star p ^ { - 1 } = ( - 2 \\kappa ) ^ { - 1 } \\Pi p ^ { - 1 } = ( - 2 \\kappa ) ^ { - 1 } p ^ { - 1 } \\star \\Pi\n",
      "0 . 3 \\mathrm { \\ e V ^ { 2 } } \\le \\delta m ^ { 2 } = { \\frac { 0 . 0 3 \\mathrm { \\ e V ^ { 2 } } } { ( \\sin ^ { 2 } 2 \\theta ) ^ { 0 . 7 } } } \\le 2 . 0 \\mathrm { \\ e V ^ { 2 } \\, . }\n",
      "\\mathcal { Q } = Z _ { 3 } \\mathcal { Q } ^ { \\mathrm { R } } , \\quad \\mathcal { Q } ^ { \\mathrm { R } } : = { \\frac { 1 } { 2 } } a _ { \\mu } ^ { \\mathrm { R } } ( x ) a ^ { \\mu } { } ^ { \\mathrm { R } } ( x ) + \\alpha ^ { \\mathrm { R } } i \\bar { C } ^ { \\mathrm { R } } ( x ) C ^ { \\mathrm { R } } ( x ) .\n",
      "\\operatorname { v o l } _ { n } : = { \\sqrt { | g | } } \\; d x ^ { 1 } \\wedge \\cdots \\wedge d x ^ { n }\n",
      "S _ { i } ^ { \\alpha }\n",
      "\\lambda _ { p } ( \\frac 1 2 ; 1 2 , 0 1 ) = 1 . 3 \\AA \\, ( \\Delta j = 1 \\, p a r i t y \\, c o n s e r v a t i o n \\, t r a n s i t i o n ) . \\nonumber\n",
      "D _ { \\mathrm { F } \\mu \\nu } ^ { - 1 } ( x , x ^ { \\prime } ) = - \\partial ^ { 2 } \\delta ( x - x ^ { \\prime } ) \\delta _ { \\mu \\nu } .\n"
     ]
    },
    {
     "data": {
      "image/png": "[encoded data removed]",
      "text/plain": [
       "<Figure size 640x480 with 1 Axes>"
      ]
     },
     "metadata": {},
     "output_type": "display_data"
    },
    {
     "name": "stdout",
     "output_type": "stream",
     "text": [
      "torch.Size([64, 544])\n"
     ]
    },
    {
     "data": {
      "image/png": "[encoded data removed]",
      "text/plain": [
       "<Figure size 640x480 with 1 Axes>"
      ]
     },
     "metadata": {},
     "output_type": "display_data"
    },
    {
     "name": "stdout",
     "output_type": "stream",
     "text": [
      "torch.Size([64, 544])\n"
     ]
    },
    {
     "data": {
      "image/png": "[encoded data removed]",
      "text/plain": [
       "<Figure size 640x480 with 1 Axes>"
      ]
     },
     "metadata": {},
     "output_type": "display_data"
    },
    {
     "name": "stdout",
     "output_type": "stream",
     "text": [
      "torch.Size([64, 544])\n"
     ]
    },
    {
     "data": {
      "image/png": "[encoded data removed]",
      "text/plain": [
       "<Figure size 640x480 with 1 Axes>"
      ]
     },
     "metadata": {},
     "output_type": "display_data"
    },
    {
     "name": "stdout",
     "output_type": "stream",
     "text": [
      "torch.Size([64, 544])\n"
     ]
    },
    {
     "data": {
      "image/png": "[encoded data removed]",
      "text/plain": [
       "<Figure size 640x480 with 1 Axes>"
      ]
     },
     "metadata": {},
     "output_type": "display_data"
    },
    {
     "name": "stdout",
     "output_type": "stream",
     "text": [
      "torch.Size([64, 544])\n"
     ]
    },
    {
     "data": {
      "image/png": "[encoded data removed]",
      "text/plain": [
       "<Figure size 640x480 with 1 Axes>"
      ]
     },
     "metadata": {},
     "output_type": "display_data"
    },
    {
     "name": "stdout",
     "output_type": "stream",
     "text": [
      "torch.Size([64, 544])\n"
     ]
    },
    {
     "data": {
      "image/png": "[encoded data removed]",
      "text/plain": [
       "<Figure size 640x480 with 1 Axes>"
      ]
     },
     "metadata": {},
     "output_type": "display_data"
    },
    {
     "name": "stdout",
     "output_type": "stream",
     "text": [
      "torch.Size([64, 544])\n"
     ]
    },
    {
     "data": {
      "image/png": "[encoded data removed]",
      "text/plain": [
       "<Figure size 640x480 with 1 Axes>"
      ]
     },
     "metadata": {},
     "output_type": "display_data"
    },
    {
     "name": "stdout",
     "output_type": "stream",
     "text": [
      "torch.Size([64, 544])\n"
     ]
    },
    {
     "data": {
      "image/png": "[encoded data removed]",
      "text/plain": [
       "<Figure size 640x480 with 1 Axes>"
      ]
     },
     "metadata": {},
     "output_type": "display_data"
    },
    {
     "name": "stdout",
     "output_type": "stream",
     "text": [
      "torch.Size([64, 544])\n"
     ]
    },
    {
     "data": {
      "image/png": "[encoded data removed]",
      "text/plain": [
       "<Figure size 640x480 with 1 Axes>"
      ]
     },
     "metadata": {},
     "output_type": "display_data"
    },
    {
     "name": "stdout",
     "output_type": "stream",
     "text": [
      "torch.Size([64, 544])\n"
     ]
    }
   ],
   "source": [
    "img_batch, token_ids_batch = next(iter(train_dataloader))\n",
    "    \n",
    "for token_ids in token_ids_batch:\n",
    "    tokens = tokenizer.convert_ids_to_tokens(token_ids.tolist(), skip_special_tokens = True)\n",
    "    print(clean(\"\".join(tokens)))\n",
    "\n",
    "for img in img_batch:\n",
    "    plt.figure()\n",
    "    plt.axis(\"off\")\n",
    "    plt.imshow(img.squeeze(0), cmap=\"gray\")\n",
    "    plt.show()\n",
    "\n",
    "    print(img[0].shape)"
   ]
  },
  {
   "cell_type": "code",
   "execution_count": 12,
   "metadata": {},
   "outputs": [],
   "source": [
    "model = EncoderDecoder(\n",
    "    vocab_size=tokenizer.vocab_size,\n",
    "    d_feature=512,\n",
    "    d_model=256,\n",
    "    n_blocks_enc=4,\n",
    "    n_blocks_dec=4,\n",
    "    n_heads=8,\n",
    "    d_hidden=1024,\n",
    "    dropout=0.1\n",
    ").to(device)\n",
    "\n",
    "criterion = nn.CrossEntropyLoss(ignore_index=tokenizer.convert_tokens_to_ids(\"[PAD]\"), label_smoothing=0.1)\n",
    "optimizer = torch.optim.Adam(params=model.parameters(), lr=0.001)"
   ]
  },
  {
   "cell_type": "code",
   "execution_count": null,
   "metadata": {},
   "outputs": [],
   "source": [
    "train_loss = []\n",
    "num_epochs = 1\n",
    "\n",
    "for epoch in range(num_epochs):\n",
    "    \n",
    "    model.train()\n",
    "    torch.inference_mode(False)\n",
    "\n",
    "    train_iterator = tqdm(train_dataloader, total=len(train_dataloader), desc=\"training epoch {}/{}\".format(epoch, num_epochs))\n",
    "\n",
    "    for img, token_ids in train_iterator:\n",
    "        # move to GPU\n",
    "        img = img.to(device)\n",
    "        input_token_ids = get_input_token_ids(token_ids, tokenizer).to(device)\n",
    "        target_token_ids = get_target_token_ids(token_ids, tokenizer).to(device)\n",
    "\n",
    "        # forward\n",
    "        logits = model(img, input_token_ids)\n",
    "        loss = criterion(logits, target_token_ids)\n",
    "\n",
    "        # collect stats\n",
    "        train_loss.append(loss.item())\n",
    "        train_iterator.set_postfix({\"loss\": f\"{loss.item():.4f}\"})\n",
    "\n",
    "        # backward\n",
    "        optimizer.zero_grad()\n",
    "        loss.backward()\n",
    "        optimizer.step()"
   ]
  },
  {
   "cell_type": "code",
   "execution_count": null,
   "metadata": {},
   "outputs": [],
   "source": [
    "output_texts = []\n",
    "target_texts = []\n",
    "\n",
    "model.eval()\n",
    "torch.inference_mode(True)\n",
    "\n",
    "validation_iterator = tqdm(val_dataloader, total=len(val_dataloader), desc=\"validation epoch {}/{}\".format(epoch, num_epochs))\n",
    "\n",
    "for index, (img, token_ids) in tqdm(val_dataloader):\n",
    "    # move to GPU\n",
    "    img = img.to(device)\n",
    "    input_token_ids = get_input_token_ids(token_ids, tokenizer).to(device)\n",
    "    target_token_ids = get_target_token_ids(token_ids, tokenizer).to(device)\n",
    "\n",
    "    # forward\n",
    "    logits = model(img, input_token_ids)\n",
    "    \n",
    "    # collect stats\n",
    "    output_texts.append(tokenizer.convert_ids_to_tokens(input_token_ids[0].tolist(), skip_special_tokens = True))\n",
    "    target_texts.append(tokenizer.convert_ids_to_tokens(target_token_ids[0].tolist(), skip_special_tokens = True))\n",
    "\n",
    "bleu = BLEUScore()(output_texts, target_texts)\n",
    "wer = WordErrorRate()(output_texts, target_texts)\n",
    "cer = CharErrorRate()(output_texts, target_texts)\n",
    "\n",
    "print(f\"BLEU: {bleu}\")\n",
    "print(f\"WER: {wer}\")\n",
    "print(f\"CRE: {cer}\")"
   ]
  }
 ],
 "metadata": {
  "kernelspec": {
   "display_name": "torch-directml",
   "language": "python",
   "name": "python3"
  },
  "language_info": {
   "codemirror_mode": {
    "name": "ipython",
    "version": 3
   },
   "file_extension": ".py",
   "mimetype": "text/x-python",
   "name": "python",
   "nbconvert_exporter": "python",
   "pygments_lexer": "ipython3",
   "version": "3.11.9"
  }
 },
 "nbformat": 4,
 "nbformat_minor": 2
}
