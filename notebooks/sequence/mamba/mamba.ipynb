{
 "cells": [
  {
   "cell_type": "code",
   "execution_count": 1,
   "metadata": {},
   "outputs": [
    {
     "name": "stderr",
     "output_type": "stream",
     "text": [
      "/home/chickencurry/miniconda3/envs/torch-directml/lib/python3.8/site-packages/tqdm/auto.py:21: TqdmWarning: IProgress not found. Please update jupyter and ipywidgets. See https://ipywidgets.readthedocs.io/en/stable/user_install.html\n",
      "  from .autonotebook import tqdm as notebook_tqdm\n"
     ]
    }
   ],
   "source": [
    "import os\n",
    "from typing import List, Tuple\n",
    "\n",
    "import cv2\n",
    "import matplotlib.pyplot as plt\n",
    "import pandas as pd\n",
    "import torch\n",
    "import torch.nn as nn\n",
    "from sklearn.preprocessing import LabelBinarizer\n",
    "from torch import Tensor, load, save\n",
    "from torch.utils.data import DataLoader, Dataset, random_split\n",
    "from transformers import PreTrainedTokenizerFast"
   ]
  },
  {
   "cell_type": "code",
   "execution_count": 2,
   "metadata": {},
   "outputs": [],
   "source": [
    "tokenizer_path = \"./data/tokenizer.json\"\n",
    "img_test_dir = \"./data/formulae/test\"\n",
    "img_train_dir = \"./data/formulae/train\"\n",
    "img_val_dir = \"./data/formulae/val\"\n",
    "latex_path = \"./data/formulae/math.txt\""
   ]
  },
  {
   "cell_type": "code",
   "execution_count": 3,
   "metadata": {},
   "outputs": [],
   "source": [
    "class LatexEquationDataset(Dataset):\n",
    "    def __init__(self, latex_path: str, img_dir: str, tokenizer_path: str):\n",
    "        super().__init__()\n",
    "        \n",
    "        with open(latex_path, \"r\") as file:\n",
    "            self._equations = file.readlines()\n",
    "\n",
    "        self._img_dir = img_dir\n",
    "        self._img_filenames = os.listdir(img_dir)\n",
    "\n",
    "        self._tokenizer = PreTrainedTokenizerFast(tokenizer_file = tokenizer_path)\n",
    "\n",
    "    def __len__(self) -> int:\n",
    "        return len(self._img_files)\n",
    "    \n",
    "    def __getitem__(self, idx: int):\n",
    "        img_filename = self._img_filenames[idx]\n",
    "        img_idx = int(img_filename.split(\".\")[0])\n",
    "\n",
    "        img = cv2.imread(os.path.join(self._img_dir, img_filename), cv2.IMREAD_GRAYSCALE)\n",
    "        img_tensor = torch.from_numpy(img)\n",
    "\n",
    "        equation = self._equations[img_idx]\n",
    "        tokens = self._tokenizer.tokenize(equation)\n",
    "        \n",
    "        return img_tensor, equation, tokens"
   ]
  },
  {
   "cell_type": "code",
   "execution_count": 4,
   "metadata": {},
   "outputs": [
    {
     "name": "stdout",
     "output_type": "stream",
     "text": [
      "\\theta _ { 1 } + \\theta _ { 2 } = \\theta _ { 3 } + \\theta _ { 4 } = 9 0 ^ { \\circ } .\n",
      "\n",
      "['\\\\', 'theta', 'Ġ_', 'Ġ{', 'Ġ1', 'Ġ}', 'Ġ+', 'Ġ\\\\', 'theta', 'Ġ_', 'Ġ{', 'Ġ2', 'Ġ}', 'Ġ=', 'Ġ\\\\', 'theta', 'Ġ_', 'Ġ{', 'Ġ3', 'Ġ}', 'Ġ+', 'Ġ\\\\', 'theta', 'Ġ_', 'Ġ{', 'Ġ4', 'Ġ}', 'Ġ=', 'Ġ9', 'Ġ0', 'Ġ^', 'Ġ{', 'Ġ\\\\', 'circ', 'Ġ}', 'Ġ.', 'Ċ']\n"
     ]
    },
    {
     "data": {
      "image/png": "[encoded data removed]",
      "text/plain": [
       "<Figure size 640x480 with 1 Axes>"
      ]
     },
     "metadata": {},
     "output_type": "display_data"
    }
   ],
   "source": [
    "dataset = LatexEquationDataset(latex_path, img_train_dir, tokenizer_path)\n",
    "img_tensor, equation, tokens = dataset.__getitem__(0)\n",
    "\n",
    "plt.imshow(img_tensor, cmap=\"gray\")\n",
    "print(equation)\n",
    "print(tokens)"
   ]
  }
 ],
 "metadata": {
  "kernelspec": {
   "display_name": "torch-directml",
   "language": "python",
   "name": "python3"
  },
  "language_info": {
   "codemirror_mode": {
    "name": "ipython",
    "version": 3
   },
   "file_extension": ".py",
   "mimetype": "text/x-python",
   "name": "python",
   "nbconvert_exporter": "python",
   "pygments_lexer": "ipython3",
   "version": "3.8.18"
  }
 },
 "nbformat": 4,
 "nbformat_minor": 2
}
