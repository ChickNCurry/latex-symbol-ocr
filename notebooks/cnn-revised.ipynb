{
  "cells": [
    {
      "cell_type": "code",
      "execution_count": 1,
      "metadata": {
        "ExecuteTime": {
          "end_time": "2023-10-05T15:01:31.578698300Z",
          "start_time": "2023-10-05T15:01:31.561922700Z"
        }
      },
      "outputs": [],
      "source": [
        "import os\n",
        "import cv2\n",
        "import torch\n",
        "import torch.nn as nn\n",
        "import numpy as np\n",
        "import pandas as pd\n",
        "from torch.utils.data import Dataset, DataLoader\n",
        "from sklearn.preprocessing import LabelBinarizer"
      ]
    },
    {
      "cell_type": "code",
      "execution_count": null,
      "metadata": {},
      "outputs": [],
      "source": [
        "import torch_directml\n",
        "dml = torch_directml.device()\n",
        "print(\"device\", dml)"
      ]
    },
    {
      "cell_type": "code",
      "execution_count": 2,
      "metadata": {},
      "outputs": [],
      "source": [
        "base_dir = \"../data/archive/\"\n",
        "csv_path = \"../data/archive/hasy-data-labels.csv\""
      ]
    },
    {
      "cell_type": "code",
      "execution_count": 3,
      "metadata": {},
      "outputs": [
        {
          "name": "stdout",
          "output_type": "stream",
          "text": [
            "number of classes: 369\n"
          ]
        }
      ],
      "source": [
        "df = pd.read_csv(csv_path)\n",
        "labels = df['symbol_id']\n",
        "\n",
        "label_binarizer = LabelBinarizer()\n",
        "label_binarizer.fit(labels)\n",
        "\n",
        "num_of_classes = label_binarizer.classes_.shape[0]\n",
        "print(\"number of classes:\", num_of_classes)"
      ]
    },
    {
      "cell_type": "code",
      "execution_count": 4,
      "metadata": {},
      "outputs": [],
      "source": [
        "class LatexSymbolDataset(Dataset):\n",
        "    def __init__(self, base_dir: str, csv_path: str, label_binarizer: LabelBinarizer) -> None:\n",
        "        self.base_dir = base_dir\n",
        "        self.df = pd.read_csv(csv_path)\n",
        "\n",
        "    def __len__(self):\n",
        "        return self.df.shape[0]\n",
        "\n",
        "    def __getitem__(self, index):\n",
        "        label = self.df.loc[index, \"symbol_id\"]\n",
        "        path = self.df.loc[index, \"path\"]\n",
        "\n",
        "        img_path = os.path.join(self.base_dir, path)\n",
        "        img = cv2.imread(img_path, cv2.IMREAD_GRAYSCALE)\n",
        "        img_tensor = torch.FloatTensor(img)[None, :, :]\n",
        "\n",
        "        label_encoded = label_binarizer.transform([label])[0]\n",
        "        label_tensor = torch.FloatTensor(label_encoded)\n",
        "        \n",
        "        return img_tensor, label_tensor"
      ]
    },
    {
      "cell_type": "code",
      "execution_count": 5,
      "metadata": {
        "ExecuteTime": {
          "end_time": "2023-10-05T13:10:16.351059500Z",
          "start_time": "2023-10-05T13:10:15.637381800Z"
        }
      },
      "outputs": [],
      "source": [
        "training_dataset = LatexSymbolDataset(base_dir, csv_path, label_binarizer)\n",
        "test_dataset = LatexSymbolDataset(base_dir, csv_path, label_binarizer)\n",
        "\n",
        "training_dataloader = DataLoader(training_dataset, batch_size=1000, shuffle=True)\n",
        "test_dataloader = DataLoader(test_dataset, batch_size=1000, shuffle=True)"
      ]
    },
    {
      "cell_type": "code",
      "execution_count": 6,
      "metadata": {
        "ExecuteTime": {
          "end_time": "2023-10-04T11:23:51.074640200Z",
          "start_time": "2023-10-04T11:23:51.058642200Z"
        }
      },
      "outputs": [],
      "source": [
        "class CNN(nn.Module):\n",
        "    def __init__(self, in_channels, num_of_classes) -> None:\n",
        "        super().__init__()\n",
        "\n",
        "        self.model = nn.Sequential(\n",
        "            nn.Conv2d(in_channels=in_channels, out_channels=32, kernel_size=5),\n",
        "            nn.LeakyReLU(),\n",
        "            nn.MaxPool2d(kernel_size=2, stride=2),\n",
        "            nn.Conv2d(in_channels=32, out_channels=64, kernel_size=5),\n",
        "            nn.LeakyReLU(),\n",
        "            nn.MaxPool2d(kernel_size=2, stride=2),\n",
        "            nn.Flatten(),\n",
        "            nn.Linear(in_features=64 * 5 * 5, out_features=1024),\n",
        "            nn.LeakyReLU(),\n",
        "            nn.Dropout(),\n",
        "            nn.Linear(in_features=1024, out_features=1024),\n",
        "            nn.LeakyReLU(),\n",
        "            nn.Dropout(),\n",
        "            nn.Linear(in_features=1024, out_features=1024),\n",
        "            nn.LeakyReLU(),\n",
        "            nn.Dropout(),\n",
        "            nn.Linear(1024, num_of_classes)\n",
        "        )\n",
        "\n",
        "        # 1 * 32 * 32\n",
        "        # 32 * 28 * 28\n",
        "        # 32 * 14 * 14\n",
        "        # 64 * 10 * 10\n",
        "        # 64 * 5 * 5\n",
        "\n",
        "        self.init_weights()\n",
        "\n",
        "    def forward(self, x):\n",
        "        return self.model(x)\n",
        "    \n",
        "    def init_weights(self):\n",
        "        for module in self.model:\n",
        "            if isinstance(module, nn.Conv2d):\n",
        "                nn.init.xavier_uniform_(module.weight)\n",
        "\n",
        "                if module.bias is not None:\n",
        "                    nn.init.constant_(module.bias, 0)\n",
        "\n",
        "            elif isinstance(module, nn.Linear):\n",
        "                nn.init.xavier_uniform_(module.weight)\n",
        "                \n",
        "                if module.bias is not None:\n",
        "                    nn.init.constant_(module.bias, 0)"
      ]
    },
    {
      "cell_type": "code",
      "execution_count": 10,
      "metadata": {
        "ExecuteTime": {
          "end_time": "2023-10-04T11:23:52.523335500Z",
          "start_time": "2023-10-04T11:23:52.511332400Z"
        }
      },
      "outputs": [],
      "source": [
        "def get_accuracy(y_pred, y_train):\n",
        "    y_pred_index = torch.argmax(y_pred, 1)\n",
        "    y_train_index = torch.argmax(y_train, 1)\n",
        "\n",
        "    num_correct = (y_pred_index == y_train_index).sum().item()\n",
        "    num_samples = y_pred.shape[0]\n",
        "\n",
        "    return num_correct / num_samples"
      ]
    },
    {
      "cell_type": "code",
      "execution_count": 11,
      "metadata": {},
      "outputs": [],
      "source": [
        "model = CNN(1, num_of_classes)\n",
        "\n",
        "num_epochs = 40\n",
        "learning_rate = 0.001\n",
        "\n",
        "loss_function = nn.CrossEntropyLoss()\n",
        "optimizer = torch.optim.Adam(params=model.parameters(), lr=learning_rate)"
      ]
    },
    {
      "cell_type": "code",
      "execution_count": 12,
      "metadata": {
        "ExecuteTime": {
          "end_time": "2023-10-05T15:01:26.097742300Z",
          "start_time": "2023-10-05T15:01:26.075696800Z"
        }
      },
      "outputs": [
        {
          "name": "stdout",
          "output_type": "stream",
          "text": [
            "EPOCH 0 | BATCH 0 of 169 | LOSS 129.4643 | ACCURACY 0.0030\n",
            "EPOCH 0 | BATCH 1 of 169 | LOSS 38.3132 | ACCURACY 0.0030\n",
            "EPOCH 0 | BATCH 2 of 169 | LOSS 15.6449 | ACCURACY 0.0070\n",
            "EPOCH 0 | BATCH 3 of 169 | LOSS 7.7813 | ACCURACY 0.0120\n",
            "EPOCH 0 | BATCH 4 of 169 | LOSS 6.0833 | ACCURACY 0.0080\n",
            "EPOCH 0 | BATCH 5 of 169 | LOSS 5.8253 | ACCURACY 0.0050\n",
            "EPOCH 0 | BATCH 6 of 169 | LOSS 5.8008 | ACCURACY 0.0130\n",
            "EPOCH 0 | BATCH 7 of 169 | LOSS 5.7856 | ACCURACY 0.0140\n",
            "EPOCH 0 | BATCH 8 of 169 | LOSS 5.7580 | ACCURACY 0.0080\n",
            "EPOCH 0 | BATCH 9 of 169 | LOSS 5.7425 | ACCURACY 0.0180\n",
            "EPOCH 0 | BATCH 10 of 169 | LOSS 5.7467 | ACCURACY 0.0130\n",
            "EPOCH 0 | BATCH 11 of 169 | LOSS 5.6819 | ACCURACY 0.0100\n",
            "EPOCH 0 | BATCH 12 of 169 | LOSS 5.7113 | ACCURACY 0.0130\n",
            "EPOCH 0 | BATCH 13 of 169 | LOSS 5.7081 | ACCURACY 0.0130\n",
            "EPOCH 0 | BATCH 14 of 169 | LOSS 5.6227 | ACCURACY 0.0170\n",
            "EPOCH 0 | BATCH 15 of 169 | LOSS 5.6465 | ACCURACY 0.0200\n",
            "EPOCH 0 | BATCH 16 of 169 | LOSS 5.6630 | ACCURACY 0.0180\n",
            "EPOCH 0 | BATCH 17 of 169 | LOSS 5.6453 | ACCURACY 0.0180\n",
            "EPOCH 0 | BATCH 18 of 169 | LOSS 5.5998 | ACCURACY 0.0170\n",
            "EPOCH 0 | BATCH 19 of 169 | LOSS 5.6166 | ACCURACY 0.0090\n",
            "EPOCH 0 | BATCH 20 of 169 | LOSS 5.6000 | ACCURACY 0.0140\n",
            "EPOCH 0 | BATCH 21 of 169 | LOSS 5.6033 | ACCURACY 0.0090\n",
            "EPOCH 0 | BATCH 22 of 169 | LOSS 5.5633 | ACCURACY 0.0210\n",
            "EPOCH 0 | BATCH 23 of 169 | LOSS 5.6122 | ACCURACY 0.0100\n",
            "EPOCH 0 | BATCH 24 of 169 | LOSS 5.6109 | ACCURACY 0.0150\n",
            "EPOCH 0 | BATCH 25 of 169 | LOSS 5.6549 | ACCURACY 0.0140\n",
            "EPOCH 0 | BATCH 26 of 169 | LOSS 5.5734 | ACCURACY 0.0140\n",
            "EPOCH 0 | BATCH 27 of 169 | LOSS 5.6053 | ACCURACY 0.0120\n",
            "EPOCH 0 | BATCH 28 of 169 | LOSS 5.5629 | ACCURACY 0.0160\n",
            "EPOCH 0 | BATCH 29 of 169 | LOSS 5.5776 | ACCURACY 0.0160\n",
            "EPOCH 0 | BATCH 30 of 169 | LOSS 5.5958 | ACCURACY 0.0110\n",
            "EPOCH 0 | BATCH 31 of 169 | LOSS 5.5659 | ACCURACY 0.0120\n",
            "EPOCH 0 | BATCH 32 of 169 | LOSS 5.5610 | ACCURACY 0.0070\n",
            "EPOCH 0 | BATCH 33 of 169 | LOSS 5.5165 | ACCURACY 0.0210\n",
            "EPOCH 0 | BATCH 34 of 169 | LOSS 5.4813 | ACCURACY 0.0140\n",
            "EPOCH 0 | BATCH 35 of 169 | LOSS 5.5628 | ACCURACY 0.0100\n",
            "EPOCH 0 | BATCH 36 of 169 | LOSS 5.5284 | ACCURACY 0.0150\n",
            "EPOCH 0 | BATCH 37 of 169 | LOSS 5.5056 | ACCURACY 0.0190\n",
            "EPOCH 0 | BATCH 38 of 169 | LOSS 5.5453 | ACCURACY 0.0130\n",
            "EPOCH 0 | BATCH 39 of 169 | LOSS 5.5224 | ACCURACY 0.0230\n",
            "EPOCH 0 | BATCH 40 of 169 | LOSS 5.5185 | ACCURACY 0.0100\n",
            "EPOCH 0 | BATCH 41 of 169 | LOSS 5.4697 | ACCURACY 0.0150\n",
            "EPOCH 0 | BATCH 42 of 169 | LOSS 5.5364 | ACCURACY 0.0120\n",
            "EPOCH 0 | BATCH 43 of 169 | LOSS 5.5152 | ACCURACY 0.0290\n",
            "EPOCH 0 | BATCH 44 of 169 | LOSS 5.4955 | ACCURACY 0.0270\n",
            "EPOCH 0 | BATCH 45 of 169 | LOSS 5.4971 | ACCURACY 0.0140\n",
            "EPOCH 0 | BATCH 46 of 169 | LOSS 5.5357 | ACCURACY 0.0170\n",
            "EPOCH 0 | BATCH 47 of 169 | LOSS 5.4563 | ACCURACY 0.0220\n",
            "EPOCH 0 | BATCH 48 of 169 | LOSS 5.5090 | ACCURACY 0.0200\n",
            "EPOCH 0 | BATCH 49 of 169 | LOSS 5.5156 | ACCURACY 0.0160\n",
            "EPOCH 0 | BATCH 50 of 169 | LOSS 5.4720 | ACCURACY 0.0120\n",
            "EPOCH 0 | BATCH 51 of 169 | LOSS 5.4994 | ACCURACY 0.0240\n",
            "EPOCH 0 | BATCH 52 of 169 | LOSS 5.5289 | ACCURACY 0.0090\n",
            "EPOCH 0 | BATCH 53 of 169 | LOSS 5.4714 | ACCURACY 0.0180\n",
            "EPOCH 0 | BATCH 54 of 169 | LOSS 5.4675 | ACCURACY 0.0160\n",
            "EPOCH 0 | BATCH 55 of 169 | LOSS 5.4392 | ACCURACY 0.0220\n",
            "EPOCH 0 | BATCH 56 of 169 | LOSS 5.4614 | ACCURACY 0.0160\n",
            "EPOCH 0 | BATCH 57 of 169 | LOSS 5.4683 | ACCURACY 0.0210\n",
            "EPOCH 0 | BATCH 58 of 169 | LOSS 5.4859 | ACCURACY 0.0240\n",
            "EPOCH 0 | BATCH 59 of 169 | LOSS 5.4942 | ACCURACY 0.0210\n",
            "EPOCH 0 | BATCH 60 of 169 | LOSS 5.5062 | ACCURACY 0.0240\n",
            "EPOCH 0 | BATCH 61 of 169 | LOSS 5.4370 | ACCURACY 0.0240\n",
            "EPOCH 0 | BATCH 62 of 169 | LOSS 5.4575 | ACCURACY 0.0260\n",
            "EPOCH 0 | BATCH 63 of 169 | LOSS 5.4215 | ACCURACY 0.0240\n",
            "EPOCH 0 | BATCH 64 of 169 | LOSS 5.4767 | ACCURACY 0.0300\n",
            "EPOCH 0 | BATCH 65 of 169 | LOSS 5.4906 | ACCURACY 0.0200\n",
            "EPOCH 0 | BATCH 66 of 169 | LOSS 5.5217 | ACCURACY 0.0210\n",
            "EPOCH 0 | BATCH 67 of 169 | LOSS 5.3739 | ACCURACY 0.0340\n",
            "EPOCH 0 | BATCH 68 of 169 | LOSS 5.3884 | ACCURACY 0.0260\n",
            "EPOCH 0 | BATCH 69 of 169 | LOSS 5.3900 | ACCURACY 0.0340\n",
            "EPOCH 0 | BATCH 70 of 169 | LOSS 5.3818 | ACCURACY 0.0340\n",
            "EPOCH 0 | BATCH 71 of 169 | LOSS 5.3947 | ACCURACY 0.0290\n",
            "EPOCH 0 | BATCH 72 of 169 | LOSS 5.3780 | ACCURACY 0.0280\n",
            "EPOCH 0 | BATCH 73 of 169 | LOSS 5.4444 | ACCURACY 0.0330\n",
            "EPOCH 0 | BATCH 74 of 169 | LOSS 5.4380 | ACCURACY 0.0310\n",
            "EPOCH 0 | BATCH 75 of 169 | LOSS 5.3077 | ACCURACY 0.0550\n",
            "EPOCH 0 | BATCH 76 of 169 | LOSS 5.2857 | ACCURACY 0.0400\n",
            "EPOCH 0 | BATCH 77 of 169 | LOSS 5.3585 | ACCURACY 0.0360\n",
            "EPOCH 0 | BATCH 78 of 169 | LOSS 5.3776 | ACCURACY 0.0330\n",
            "EPOCH 0 | BATCH 79 of 169 | LOSS 5.4047 | ACCURACY 0.0370\n",
            "EPOCH 0 | BATCH 80 of 169 | LOSS 5.3316 | ACCURACY 0.0460\n",
            "EPOCH 0 | BATCH 81 of 169 | LOSS 5.3507 | ACCURACY 0.0430\n",
            "EPOCH 0 | BATCH 82 of 169 | LOSS 5.2911 | ACCURACY 0.0450\n",
            "EPOCH 0 | BATCH 83 of 169 | LOSS 5.3531 | ACCURACY 0.0400\n",
            "EPOCH 0 | BATCH 84 of 169 | LOSS 5.3412 | ACCURACY 0.0420\n",
            "EPOCH 0 | BATCH 85 of 169 | LOSS 5.2319 | ACCURACY 0.0500\n",
            "EPOCH 0 | BATCH 86 of 169 | LOSS 5.2756 | ACCURACY 0.0540\n",
            "EPOCH 0 | BATCH 87 of 169 | LOSS 5.2449 | ACCURACY 0.0500\n",
            "EPOCH 0 | BATCH 88 of 169 | LOSS 5.2225 | ACCURACY 0.0550\n",
            "EPOCH 0 | BATCH 89 of 169 | LOSS 5.3186 | ACCURACY 0.0500\n",
            "EPOCH 0 | BATCH 90 of 169 | LOSS 5.2509 | ACCURACY 0.0600\n",
            "EPOCH 0 | BATCH 91 of 169 | LOSS 5.1790 | ACCURACY 0.0660\n",
            "EPOCH 0 | BATCH 92 of 169 | LOSS 5.3597 | ACCURACY 0.0380\n",
            "EPOCH 0 | BATCH 93 of 169 | LOSS 5.1834 | ACCURACY 0.0620\n",
            "EPOCH 0 | BATCH 94 of 169 | LOSS 5.2257 | ACCURACY 0.0600\n",
            "EPOCH 0 | BATCH 95 of 169 | LOSS 5.1489 | ACCURACY 0.0580\n",
            "EPOCH 0 | BATCH 96 of 169 | LOSS 5.2587 | ACCURACY 0.0630\n",
            "EPOCH 0 | BATCH 97 of 169 | LOSS 5.2589 | ACCURACY 0.0610\n",
            "EPOCH 0 | BATCH 98 of 169 | LOSS 5.0576 | ACCURACY 0.0670\n",
            "EPOCH 0 | BATCH 99 of 169 | LOSS 5.1559 | ACCURACY 0.0710\n",
            "EPOCH 0 | BATCH 100 of 169 | LOSS 5.0844 | ACCURACY 0.0640\n",
            "EPOCH 0 | BATCH 101 of 169 | LOSS 5.0692 | ACCURACY 0.0590\n",
            "EPOCH 0 | BATCH 102 of 169 | LOSS 5.1347 | ACCURACY 0.0580\n",
            "EPOCH 0 | BATCH 103 of 169 | LOSS 5.0808 | ACCURACY 0.0720\n",
            "EPOCH 0 | BATCH 104 of 169 | LOSS 5.0903 | ACCURACY 0.0710\n",
            "EPOCH 0 | BATCH 105 of 169 | LOSS 5.0823 | ACCURACY 0.0700\n",
            "EPOCH 0 | BATCH 106 of 169 | LOSS 5.0709 | ACCURACY 0.0720\n",
            "EPOCH 0 | BATCH 107 of 169 | LOSS 5.0289 | ACCURACY 0.0840\n",
            "EPOCH 0 | BATCH 108 of 169 | LOSS 4.9575 | ACCURACY 0.0900\n",
            "EPOCH 0 | BATCH 109 of 169 | LOSS 4.9533 | ACCURACY 0.0870\n",
            "EPOCH 0 | BATCH 110 of 169 | LOSS 4.9648 | ACCURACY 0.0750\n",
            "EPOCH 0 | BATCH 111 of 169 | LOSS 5.1251 | ACCURACY 0.0600\n",
            "EPOCH 0 | BATCH 112 of 169 | LOSS 4.9593 | ACCURACY 0.0850\n",
            "EPOCH 0 | BATCH 113 of 169 | LOSS 4.9161 | ACCURACY 0.0770\n",
            "EPOCH 0 | BATCH 114 of 169 | LOSS 4.9556 | ACCURACY 0.0700\n",
            "EPOCH 0 | BATCH 115 of 169 | LOSS 4.9310 | ACCURACY 0.0850\n",
            "EPOCH 0 | BATCH 116 of 169 | LOSS 4.8886 | ACCURACY 0.0940\n",
            "EPOCH 0 | BATCH 117 of 169 | LOSS 4.8916 | ACCURACY 0.0790\n",
            "EPOCH 0 | BATCH 118 of 169 | LOSS 4.9011 | ACCURACY 0.0950\n",
            "EPOCH 0 | BATCH 119 of 169 | LOSS 4.8426 | ACCURACY 0.0960\n",
            "EPOCH 0 | BATCH 120 of 169 | LOSS 4.8241 | ACCURACY 0.0930\n",
            "EPOCH 0 | BATCH 121 of 169 | LOSS 4.7512 | ACCURACY 0.0970\n",
            "EPOCH 0 | BATCH 122 of 169 | LOSS 4.8699 | ACCURACY 0.0880\n",
            "EPOCH 0 | BATCH 123 of 169 | LOSS 4.8086 | ACCURACY 0.0860\n",
            "EPOCH 0 | BATCH 124 of 169 | LOSS 4.7389 | ACCURACY 0.1000\n",
            "EPOCH 0 | BATCH 125 of 169 | LOSS 4.8542 | ACCURACY 0.1020\n",
            "EPOCH 0 | BATCH 126 of 169 | LOSS 4.6644 | ACCURACY 0.1130\n",
            "EPOCH 0 | BATCH 127 of 169 | LOSS 4.6320 | ACCURACY 0.1200\n",
            "EPOCH 0 | BATCH 128 of 169 | LOSS 4.7148 | ACCURACY 0.0940\n",
            "EPOCH 0 | BATCH 129 of 169 | LOSS 4.7190 | ACCURACY 0.0970\n",
            "EPOCH 0 | BATCH 130 of 169 | LOSS 4.7167 | ACCURACY 0.1120\n",
            "EPOCH 0 | BATCH 131 of 169 | LOSS 4.6602 | ACCURACY 0.1080\n",
            "EPOCH 0 | BATCH 132 of 169 | LOSS 4.5789 | ACCURACY 0.1300\n",
            "EPOCH 0 | BATCH 133 of 169 | LOSS 4.6054 | ACCURACY 0.1370\n",
            "EPOCH 0 | BATCH 134 of 169 | LOSS 4.5796 | ACCURACY 0.1200\n",
            "EPOCH 0 | BATCH 135 of 169 | LOSS 4.5095 | ACCURACY 0.1360\n",
            "EPOCH 0 | BATCH 136 of 169 | LOSS 4.5578 | ACCURACY 0.1470\n",
            "EPOCH 0 | BATCH 137 of 169 | LOSS 4.5310 | ACCURACY 0.1290\n",
            "EPOCH 0 | BATCH 138 of 169 | LOSS 4.5536 | ACCURACY 0.1200\n",
            "EPOCH 0 | BATCH 139 of 169 | LOSS 4.4928 | ACCURACY 0.1290\n",
            "EPOCH 0 | BATCH 140 of 169 | LOSS 4.4504 | ACCURACY 0.1420\n"
          ]
        }
      ],
      "source": [
        "# model.to(dml)\n",
        "\n",
        "# collect stats\n",
        "train_loss = []\n",
        "train_acc = []\n",
        "test_acc = []\n",
        "\n",
        "for epoch in range(num_epochs):\n",
        "    \n",
        "    model.train()\n",
        "\n",
        "    for index, (X_train, y_train) in enumerate(training_dataloader):\n",
        "        # move to GPU\n",
        "        # X_train.to(dml)\n",
        "        # y_train.to(dml)\n",
        "\n",
        "        # forward\n",
        "        y_pred = model(X_train)\n",
        "        loss = loss_function(y_pred, y_train)\n",
        "        acc = get_accuracy(y_pred, y_train)\n",
        "\n",
        "        # collect stats\n",
        "        train_loss.append(loss.item())\n",
        "        train_acc.append(acc)\n",
        "\n",
        "        # backward\n",
        "        optimizer.zero_grad()\n",
        "        loss.backward()\n",
        "        optimizer.step()\n",
        "\n",
        "        print(f\"EPOCH {epoch} | BATCH {index} of {len(training_dataloader)} | LOSS {loss.item():.4f} | ACCURACY {acc:.4f}\")\n",
        "\n",
        "    model.eval()\n",
        "    torch.no_grad()\n",
        "\n",
        "    for index, (X_test, y_test) in enumerate(test_dataloader):\n",
        "\n",
        "        # move to GPU\n",
        "        # X_test.to(dml)\n",
        "        # y_test.to(dml)\n",
        "\n",
        "        # forward\n",
        "        y_pred = model(X_test)\n",
        "        acc = get_accuracy(y_pred, y_test)\n",
        "\n",
        "        # collect stats\n",
        "        test_acc.append(acc)"
      ]
    },
    {
      "cell_type": "code",
      "execution_count": 14,
      "metadata": {},
      "outputs": [
        {
          "data": {
            "image/png": "[encoded data removed]",
            "text/plain": [
              "<Figure size 640x480 with 1 Axes>"
            ]
          },
          "metadata": {},
          "output_type": "display_data"
        }
      ],
      "source": [
        "import matplotlib.pyplot as plt\n",
        "\n",
        "fig, ax = plt.subplots()\n",
        "ax.plot(range(num_epochs), train_acc, label=\"train\")\n",
        "ax.plot(range(num_epochs), test_acc, label=\"test\")\n",
        "ax.set_xlabel('Epoch')\n",
        "ax.set_ylabel('Accuracy')\n",
        "ax.set_title('Accuracy per Epoch')\n",
        "ax.legend()\n",
        "plt.show()"
      ]
    },
    {
      "cell_type": "code",
      "execution_count": 15,
      "metadata": {},
      "outputs": [
        {
          "name": "stdout",
          "output_type": "stream",
          "text": [
            "tensor([102], device='privateuseone:0')\n",
            "tensor(309., device='privateuseone:0')\n"
          ]
        }
      ],
      "source": [
        "out = model(X_test[76][None, :, :, :])\n",
        "_, predicted = torch.max(out, 1)\n",
        "print(predicted)\n",
        "print(y_test_int[76])"
      ]
    },
    {
      "cell_type": "code",
      "execution_count": 18,
      "metadata": {},
      "outputs": [],
      "source": [
        "from torch import save\n",
        "\n",
        "model = model.to(\"cpu\")\n",
        "with open('model_state.pt', 'wb') as f: \n",
        "        save(model.state_dict(), f)"
      ]
    },
    {
      "cell_type": "code",
      "execution_count": 17,
      "metadata": {},
      "outputs": [],
      "source": [
        "from torch import load\n",
        "\n",
        "with open('model_state.pt', 'rb') as f: \n",
        "        model.load_state_dict(load(f))  "
      ]
    }
  ],
  "metadata": {
    "kernelspec": {
      "display_name": "Python 3 (ipykernel)",
      "language": "python",
      "name": "python3"
    },
    "language_info": {
      "codemirror_mode": {
        "name": "ipython",
        "version": 3
      },
      "file_extension": ".py",
      "mimetype": "text/x-python",
      "name": "python",
      "nbconvert_exporter": "python",
      "pygments_lexer": "ipython3",
      "version": "3.11.4"
    }
  },
  "nbformat": 4,
  "nbformat_minor": 4
}
